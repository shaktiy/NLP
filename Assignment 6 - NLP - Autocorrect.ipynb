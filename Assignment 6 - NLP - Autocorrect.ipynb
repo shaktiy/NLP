{
 "cells": [
  {
   "cell_type": "code",
   "execution_count": 1,
   "id": "b4896e64",
   "metadata": {},
   "outputs": [],
   "source": [
    "import numpy as np\n",
    "import pandas as pd\n",
    "import re\n"
   ]
  },
  {
   "cell_type": "code",
   "execution_count": 28,
   "id": "13278436",
   "metadata": {},
   "outputs": [],
   "source": [
    "text = \"Once upon a time, there was a boy named TJ. He lived in a big house with his mother and father, his little sister Tracy, and his cat Nikki. TJ and Tracy often told their friends that Nikki was “their” cat, but Nikki wouldn’t have agreed with that. Nikki was her own cat. She loved TJ and Tracy very much, and she felt that she was a part of their family, but she didn’t “belong” to anyone. Nikki thought of herself as a wild jungle animal, a fierce hunter, and a mighty queen who ruled over all the land that was visible from the top of the tool shed. It was true that this ferocious beast liked to sleep in a yarn basket next to the heat vent, wouldn’t set foot outdoors if it was raining, and would mew plaintively while rubbing against TJ’s mother’s leg any time she opened a can of tuna, but that just proved that even a wild animal appreciates the finer things in life.\"\n",
    "#text is dictionary\n",
    "def process_data(text):\n",
    "    text_lowercase = text.lower()\n",
    "    words = re.findall(r'\\w+', text_lowercase)\n",
    "    return words\n"
   ]
  },
  {
   "cell_type": "code",
   "execution_count": 3,
   "id": "222a095d",
   "metadata": {},
   "outputs": [],
   "source": [
    "wordlist = process_data(text)\n",
    "vocab = set(wordlist)"
   ]
  },
  {
   "cell_type": "code",
   "execution_count": 4,
   "id": "cc80241e",
   "metadata": {},
   "outputs": [],
   "source": [
    "def word_count(wordlist):\n",
    "    word_count = {}\n",
    "    for word in wordlist:\n",
    "        word_count[word] = word_count.get(word, 0)+1\n",
    "    return(word_count)\n"
   ]
  },
  {
   "cell_type": "code",
   "execution_count": 5,
   "id": "796c6682",
   "metadata": {},
   "outputs": [],
   "source": [
    "word_count_list = word_count(wordlist)"
   ]
  },
  {
   "cell_type": "code",
   "execution_count": 6,
   "id": "41744b7e",
   "metadata": {},
   "outputs": [],
   "source": [
    "def word_probs(word_count_list):\n",
    "    probs = {}\n",
    "    \n",
    "    totalCount = sum(word_count_list.values())\n",
    "    for key in word_count_list:\n",
    "        probs[key] = word_count_list[key]/totalCount\n",
    "    return probs\n"
   ]
  },
  {
   "cell_type": "code",
   "execution_count": 7,
   "id": "762f3172",
   "metadata": {},
   "outputs": [],
   "source": [
    "probs = word_probs(word_count_list)"
   ]
  },
  {
   "cell_type": "code",
   "execution_count": 8,
   "id": "1e8b1e2a",
   "metadata": {},
   "outputs": [],
   "source": [
    "word = 'hose'"
   ]
  },
  {
   "cell_type": "code",
   "execution_count": 9,
   "id": "8de53b16",
   "metadata": {},
   "outputs": [],
   "source": [
    "def delete_operation(word):\n",
    "    delete_letter = []\n",
    "    split_letter = []\n",
    "    for i in range(len(word)):\n",
    "        split_letter.append([word[:i],word[i:]])\n",
    "    for a, b in split_letter:\n",
    "        delete_letter.append(a+b[1:])\n",
    "    return delete_letter"
   ]
  },
  {
   "cell_type": "code",
   "execution_count": 10,
   "id": "34f617a8",
   "metadata": {},
   "outputs": [],
   "source": [
    "def switch_operation(word):\n",
    "    switch_letter = []\n",
    "    split_letter = []\n",
    "\n",
    "    for c in range(len(word)):\n",
    "        split_letter.append([word[:c],word[c:]])\n",
    "    switch_letter = [a + b[1] + b[0] + b[2:] for a,b in split_letter if len(b) >= 2]    \n",
    "\n",
    "    return switch_letter"
   ]
  },
  {
   "cell_type": "code",
   "execution_count": 11,
   "id": "bdc7900a",
   "metadata": {},
   "outputs": [],
   "source": [
    "def replace_operation(word):\n",
    "    letters = 'abcdefghijklmnopqrstuvwxyz'\n",
    "    replace_letter = []\n",
    "    split_letter = []\n",
    "\n",
    "    for c in range(len(word)):\n",
    "        split_letter.append((word[0:c],word[c:]))\n",
    "    for a,b in split_letter:\n",
    "        for letter in letters:\n",
    "            if len(b)>0:\n",
    "                replace_letter.append(a + letter + b[1:])\n",
    "    replace_set=set(replace_letter)    \n",
    "    replace_set.remove(word)\n",
    "    replace_letter = sorted(list(replace_set))\n",
    "\n",
    "    return replace_letter"
   ]
  },
  {
   "cell_type": "code",
   "execution_count": 12,
   "id": "92594b4e",
   "metadata": {},
   "outputs": [],
   "source": [
    "def insert_operation(word):\n",
    "    letters = 'abcdefghijklmnopqrstuvwxyz'\n",
    "    insert_letter = []\n",
    "    split_letter = []\n",
    "\n",
    "    for c in range(len(word)+1):\n",
    "        split_letter.append((word[0:c],word[c:]))\n",
    "    for a, b in split_letter:\n",
    "        for letter in letters:\n",
    "            insert_letter.append(a + letter + b)\n",
    "\n",
    "    return insert_letter"
   ]
  },
  {
   "cell_type": "code",
   "execution_count": 13,
   "id": "30f1bd88",
   "metadata": {},
   "outputs": [],
   "source": [
    "def edit_one_letter(word):\n",
    "    edit_one_set = set()\n",
    "\n",
    "    edit_one_set.update(delete_operation(word))\n",
    "    edit_one_set.update(switch_operation(word))\n",
    "    edit_one_set.update(replace_operation(word))\n",
    "    edit_one_set.update(insert_operation(word))\n",
    "\n",
    "    return edit_one_set"
   ]
  },
  {
   "cell_type": "code",
   "execution_count": 14,
   "id": "486b9b80",
   "metadata": {},
   "outputs": [],
   "source": [
    "W = edit_one_letter(word)"
   ]
  },
  {
   "cell_type": "code",
   "execution_count": 15,
   "id": "82f7f016",
   "metadata": {},
   "outputs": [
    {
     "name": "stdout",
     "output_type": "stream",
     "text": [
      "{'hoxe', 'huose', 'hosbe', 'hzse', 'xhose', 'zose', 'zhose', 'chose', 'hosp', 'hoseu', 'whose', 'hoste', 'hoseb', 'htse', 'sose', 'gose', 'ghose', 'hosem', 'hosfe', 'hoset', 'hlose', 'hpse', 'host', 'mose', 'hhse', 'home', 'hovse', 'hosqe', 'khose', 'hosel', 'hosu', 'hosje', 'ohse', 'hotse', 'hosek', 'hone', 'bose', 'hdse', 'hosx', 'dose', 'hobse', 'rose', 'yose', 'hosg', 'hosee', 'hosie', 'lose', 'hosb', 'hosv', 'nhose', 'hjose', 'hjse', 'hqse', 'hbse', 'hosep', 'hoe', 'hosae', 'hosme', 'hosce', 'hoke', 'hospe', 'hoose', 'hoser', 'hodse', 'heose', 'hosm', 'hbose', 'house', 'hore', 'hnose', 'hrose', 'yhose', 'rhose', 'hoseq', 'hosew', 'jhose', 'hosj', 'hosea', 'vose', 'holse', 'fose', 'hosk', 'hosve', 'hosa', 'hosef', 'hyose', 'hoseo', 'hokse', 'hoye', 'hoge', 'hosue', 'hdose', 'hosy', 'uose', 'hosh', 'hsoe', 'hvose', 'hosye', 'hoshe', 'hosne', 'hosev', 'hise', 'hope', 'hosze', 'hove', 'hosoe', 'hojse', 'hoso', 'hase', 'hos', 'cose', 'homse', 'hooe', 'ahose', 'hosed', 'haose', 'qhose', 'hoie', 'hosre', 'hosn', 'hosr', 'hopse', 'hoss', 'tose', 'hoswe', 'hosey', 'hosxe', 'hqose', 'hosd', 'pose', 'phose', 'hofe', 'hmose', 'hobe', 'hoes', 'hrse', 'hozse', 'hoske', 'hosez', 'hoze', 'hoxse', 'hocse', 'hosz', 'hoae', 'uhose', 'hgose', 'hsose', 'hoqse', 'hosde', 'hoyse', 'aose', 'hoese', 'ohose', 'hosse', 'hxose', 'nose', 'hiose', 'hosq', 'hse', 'hoje', 'hofse', 'dhose', 'ehose', 'hoseg', 'hfose', 'hosge', 'wose', 'hohe', 'xose', 'houe', 'hzose', 'hkose', 'hcose', 'hosec', 'bhose', 'iose', 'hogse', 'howe', 'hgse', 'hpose', 'honse', 'hoqe', 'hkse', 'horse', 'hoseh', 'shose', 'hole', 'hnse', 'hosc', 'hosl', 'those', 'fhose', 'hoses', 'hese', 'hosex', 'hosw', 'hote', 'hvse', 'hxse', 'mhose', 'hosi', 'qose', 'hode', 'jose', 'htose', 'eose', 'hosf', 'hmse', 'hwse', 'hoee', 'hwose', 'hosei', 'oose', 'hhose', 'hoase', 'huse', 'vhose', 'hohse', 'hfse', 'hcse', 'hosej', 'hosen', 'hoce', 'hyse', 'lhose', 'hsse', 'ose', 'kose', 'hoise', 'ihose', 'hosle', 'hlse', 'howse'}\n"
     ]
    }
   ],
   "source": [
    "print(W)"
   ]
  },
  {
   "cell_type": "code",
   "execution_count": 16,
   "id": "ec5ae05b",
   "metadata": {},
   "outputs": [],
   "source": [
    "edit_two_letter = []\n",
    "\n",
    "for word in W:\n",
    "    edit_two_letter.extend(edit_one_letter(word))\n",
    "edit_two_set  = set(edit_two_letter)    \n",
    "\n"
   ]
  },
  {
   "cell_type": "markdown",
   "id": "d8f93647",
   "metadata": {},
   "source": [
    "### Suggestions for words in edit_two_letter in dictionary with high probabilities"
   ]
  },
  {
   "cell_type": "code",
   "execution_count": 17,
   "id": "85fbae4e",
   "metadata": {},
   "outputs": [
    {
     "name": "stdout",
     "output_type": "stream",
     "text": [
      "she 0.028735632183908046\n",
      "have 0.005747126436781609\n",
      "his 0.017241379310344827\n",
      "house 0.005747126436781609\n",
      "he 0.005747126436781609\n"
     ]
    }
   ],
   "source": [
    "filtered_set = vocab.intersection(edit_two_set)\n",
    "for i in filtered_set:\n",
    "    print(i,probs[i])"
   ]
  },
  {
   "cell_type": "markdown",
   "id": "97ff1194",
   "metadata": {},
   "source": [
    "### Minimum edit distance "
   ]
  },
  {
   "cell_type": "code",
   "execution_count": 18,
   "id": "a0266ca7",
   "metadata": {},
   "outputs": [],
   "source": [
    "def min_edit_distance(source, target, ins_cost = 1, del_cost = 1, rep_cost = 2):\n",
    "    \n",
    "    m = len(source) \n",
    "    n = len(target) \n",
    "     \n",
    "    D = np.zeros((m+1, n+1), dtype=int) \n",
    "    \n",
    "    for row in range(1,m+1): \n",
    "        D[row,0] = D[row-1, 0]+del_cost\n",
    "        \n",
    "    for col in range(1,n+1): \n",
    "        D[0,col] = D[0, col-1]+ins_cost\n",
    "        \n",
    "    for row in range(1,m+1): \n",
    "        for col in range(1,n+1):\n",
    "            r_cost = rep_cost\n",
    "            if source[row-1] == target[col-1]:\n",
    "                r_cost = 0\n",
    "            cost_del = D[row-1, col] + del_cost\n",
    "            cost_ins = D[row, col-1] + ins_cost\n",
    "            cost_replace = D[row-1, col-1] + r_cost\n",
    "            \n",
    "            D[row,col] = min(cost_del, cost_ins, cost_replace)\n",
    "    med = D[m, n]\n",
    "    \n",
    "    return D, med"
   ]
  },
  {
   "cell_type": "code",
   "execution_count": 22,
   "id": "71c0989b",
   "metadata": {},
   "outputs": [
    {
     "name": "stdout",
     "output_type": "stream",
     "text": [
      "{'she': 3, 'have': 4, 'his': 3, 'house': 1, 'he': 2}\n"
     ]
    }
   ],
   "source": [
    "dict = {}\n",
    "target = \"hose\"\n",
    "\n",
    "for word in filtered_set:\n",
    "    dict[word] = min_edit_distance(word, target, ins_cost = 1, del_cost = 1, rep_cost = 2)[1]\n",
    "print(dict)"
   ]
  },
  {
   "cell_type": "markdown",
   "id": "021a12c1",
   "metadata": {},
   "source": [
    "### Suggestions "
   ]
  },
  {
   "cell_type": "code",
   "execution_count": 27,
   "id": "73d37c76",
   "metadata": {},
   "outputs": [
    {
     "name": "stdout",
     "output_type": "stream",
     "text": [
      "house\n"
     ]
    }
   ],
   "source": [
    "suggestions = min(dict, key=dict.get)\n",
    "print(suggestions)"
   ]
  },
  {
   "cell_type": "code",
   "execution_count": null,
   "id": "b9b0aa0b",
   "metadata": {},
   "outputs": [],
   "source": []
  }
 ],
 "metadata": {
  "kernelspec": {
   "display_name": "Python 3",
   "language": "python",
   "name": "python3"
  },
  "language_info": {
   "codemirror_mode": {
    "name": "ipython",
    "version": 3
   },
   "file_extension": ".py",
   "mimetype": "text/x-python",
   "name": "python",
   "nbconvert_exporter": "python",
   "pygments_lexer": "ipython3",
   "version": "3.8.8"
  }
 },
 "nbformat": 4,
 "nbformat_minor": 5
}
